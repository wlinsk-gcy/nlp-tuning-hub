{
 "cells": [
  {
   "metadata": {},
   "cell_type": "markdown",
   "source": [
    "## 安装依赖\n",
    "\n",
    "如果当前环境已经有相关依赖了，则不用执行"
   ],
   "id": "41e0f43701d89bc7"
  },
  {
   "metadata": {},
   "cell_type": "code",
   "outputs": [],
   "execution_count": null,
   "source": "! pip install datasets==3.6.0 transformers sacrebleu evaluate",
   "id": "8b48d17a041cd61c"
  },
  {
   "metadata": {},
   "cell_type": "markdown",
   "source": [
    "## 加载数据\n",
    "\n",
    "本案例使用的数据集是英语翻罗马尼亚语的数据集，训练集有61万个样本；\n",
    "\n",
    "如果你不知道语言的code是什么的话，可以到datasets中看；例如wmt16数据集：https://huggingface.co/datasets/wmt/wmt16"
   ],
   "id": "a43b0924a2dcaa93"
  },
  {
   "metadata": {},
   "cell_type": "code",
   "outputs": [],
   "execution_count": null,
   "source": [
    "from datasets import load_dataset\n",
    "import evaluate\n",
    "\n",
    "batch_size = 16\n",
    "model_checkpoint = \"Helsinki-NLP/opus-mt-en-ro\"\n",
    "model_name = model_checkpoint.split(\"/\")[-1]\n",
    "\n",
    "# 加载数据集\n",
    "raw_datasets = load_dataset(\"wmt16\", \"ro-en\") # 罗马尼亚语 <-> 英语\n",
    "metric = evaluate.load(\"sacrebleu\")"
   ],
   "id": "b5b335bea79f6167"
  },
  {
   "metadata": {},
   "cell_type": "markdown",
   "source": [
    "## 数据集可视化\n",
    "\n",
    "为了能够进一步理解数据长什么样子，下面的函数将从数据集里随机选择几个例子进行展示；"
   ],
   "id": "2a7f69e17f14a343"
  },
  {
   "metadata": {},
   "cell_type": "code",
   "outputs": [],
   "execution_count": null,
   "source": [
    "import datasets\n",
    "import random\n",
    "import pandas as pd\n",
    "from IPython.display import display, HTML\n",
    "\n",
    "def show_random_elements(dataset, num_examples=5):\n",
    "    assert num_examples <= len(dataset), \"Can't pick more elements than there are in the dataset.\"\n",
    "    picks = []\n",
    "    for _ in range(num_examples):\n",
    "        pick = random.randint(0, len(dataset)-1)\n",
    "        while pick in picks:\n",
    "            pick = random.randint(0, len(dataset)-1)\n",
    "        picks.append(pick)\n",
    "\n",
    "    df = pd.DataFrame(dataset[picks])\n",
    "    for column, typ in dataset.features.items():\n",
    "        if isinstance(typ, datasets.ClassLabel):\n",
    "            df[column] = df[column].transform(lambda i: typ.names[i])\n",
    "    display(HTML(df.to_html()))\n",
    "\n",
    "show_random_elements(raw_datasets[\"train\"])"
   ],
   "id": "67c3be2594b379e7"
  },
  {
   "metadata": {},
   "cell_type": "markdown",
   "source": "## 数据预处理",
   "id": "6a20bbbf5304cf6"
  },
  {
   "metadata": {},
   "cell_type": "markdown",
   "source": "如果你使用的预训练模型是t5系列，因为模型特性的问题，你需要在样本前拼接上特殊前缀，告诉模型你要做什么任务：",
   "id": "64a8441231d51b7b"
  },
  {
   "metadata": {},
   "cell_type": "code",
   "outputs": [],
   "execution_count": null,
   "source": [
    "if model_checkpoint in [\"t5-small\", \"t5-base\", \"t5-larg\", \"t5-3b\", \"t5-11b\"]:\n",
    "    prefix = \"translate English to Romanian: \"\n",
    "else:\n",
    "    prefix = \"\""
   ],
   "id": "77089ab42cd5a92a"
  },
  {
   "metadata": {},
   "cell_type": "markdown",
   "source": "封装预处理函数",
   "id": "e960c0c4f906e086"
  },
  {
   "metadata": {},
   "cell_type": "code",
   "outputs": [],
   "execution_count": null,
   "source": [
    "from transformers import AutoTokenizer\n",
    "# 分词器\n",
    "tokenizer = AutoTokenizer.from_pretrained(model_checkpoint)\n",
    "\n",
    "# 主要看数据集中样本的集中长度，选一个能覆盖大部分的即可，Helsinki-NLP/opus-mt-en-ro通常是128/256/512\n",
    "max_input_length = 128 # 源样本的最大长度\n",
    "max_target_length = 128 # 目标样本的最大长度\n",
    "source_lang = \"en\"\n",
    "target_lang = \"ro\"\n",
    "\n",
    "def preprocess_function(examples):\n",
    "    inputs = [prefix + ex[source_lang] for ex in examples[\"translation\"]]\n",
    "    targets = [ex[target_lang] for ex in examples[\"translation\"]]\n",
    "    model_inputs = tokenizer(inputs, max_length=max_input_length, truncation=True)\n",
    "\n",
    "    # as_target_tokenizer： 在Seq2Seq任务中，告诉分词器此时处理的是目标样本，而不是源样本\n",
    "    with tokenizer.as_target_tokenizer():\n",
    "        labels = tokenizer(targets, max_length=max_target_length, truncation=True)\n",
    "\n",
    "    model_inputs[\"labels\"] = labels[\"input_ids\"]\n",
    "    return model_inputs\n",
    "\n",
    "# 可以查看处理后的数据\n",
    "preprocess_function(raw_datasets['train'][:2])"
   ],
   "id": "2ce32dee4aaf09ac"
  },
  {
   "metadata": {},
   "cell_type": "markdown",
   "source": [
    "## 数据映射\n",
    "\n",
    "61万的数据样本，大约需要处理5分钟；"
   ],
   "id": "2ad53e07f69a35c9"
  },
  {
   "metadata": {},
   "cell_type": "code",
   "outputs": [],
   "execution_count": null,
   "source": "tokenized_datasets = raw_datasets.map(preprocess_function, batched=True, num_proc=4)",
   "id": "9a0e18f0d20165ec"
  },
  {
   "metadata": {},
   "cell_type": "markdown",
   "source": "## 封装训练参数配置器",
   "id": "c58b2a58161e2242"
  },
  {
   "metadata": {},
   "cell_type": "code",
   "outputs": [],
   "execution_count": null,
   "source": [
    "from transformers import   Seq2SeqTrainingArguments, Seq2SeqTrainer\n",
    "\n",
    "args = Seq2SeqTrainingArguments(\n",
    "    f\"{model_name}-finetuned-{source_lang}-to-{target_lang}\", # 保存目录的名称，\n",
    "    eval_strategy = \"epoch\",\n",
    "    learning_rate=2e-5,\n",
    "    per_device_train_batch_size=batch_size,\n",
    "    per_device_eval_batch_size=batch_size,\n",
    "    weight_decay=0.01,\n",
    "    save_total_limit=3,          # 因为数据量比较大，设置最多保存三次即可，超过会自动删除最旧的。\n",
    "    num_train_epochs=1,          # 只跑1轮是为了验证流程\n",
    "    predict_with_generate=True,  # 在验证时自动生成预测结果，而不仅仅计算loss，对于翻译/摘要这种 Seq2Seq 任务必须开启\n",
    "    fp16=True,                   # 开启半精度，可以减少显存占用，加快训练速度\n",
    "    report_to=\"none\"\n",
    ")"
   ],
   "id": "419cb8d5ee4885ff"
  },
  {
   "metadata": {},
   "cell_type": "code",
   "outputs": [],
   "execution_count": null,
   "source": [
    "from transformers import AutoModelForSeq2SeqLM , DataCollatorForSeq2Seq\n",
    "\n",
    "# 预训练模型\n",
    "model = AutoModelForSeq2SeqLM.from_pretrained(model_checkpoint)\n",
    "\n",
    "# 配置Seq2Seq数据加载器，它不仅会将输入填充到批次中的最大长度，还会将标签填充到最大长度\n",
    "data_collator = DataCollatorForSeq2Seq(tokenizer, model=model)"
   ],
   "id": "83e32fba14dc44fb"
  },
  {
   "metadata": {},
   "cell_type": "markdown",
   "source": "## 数据后置处理函数",
   "id": "d25c27e471e60b16"
  },
  {
   "metadata": {},
   "cell_type": "code",
   "outputs": [],
   "execution_count": null,
   "source": [
    "def postprocess_text(preds, labels):\n",
    "    \"\"\"Hugging Face 的 metric.compute 要求 references 的格式是List[List]（因为每个预测可能有多个参考翻译）\"\"\"\n",
    "    preds = [pred.strip() for pred in preds]\n",
    "    labels = [[label.strip()] for label in labels]\n",
    "\n",
    "    return preds, labels"
   ],
   "id": "48d944c2c863574d"
  },
  {
   "metadata": {},
   "cell_type": "markdown",
   "source": [
    "例如：\n",
    "\n",
    "> preds = [\" Bună ziua \", \" Salut \"]\n",
    ">\n",
    "> labels = [\"Bună ziua\", \"Salut\"]\n",
    ">\n",
    "> postprocess_text(preds, labels)\n",
    "\n",
    "输出：\n",
    "\n",
    "> preds  -> [\"Bună ziua\", \"Salut\"]\n",
    ">\n",
    "> labels -> [[\"Bună ziua\"], [\"Salut\"]]\n"
   ],
   "id": "8f214cd2ca2823a1"
  },
  {
   "metadata": {},
   "cell_type": "markdown",
   "source": "## 封装评估函数",
   "id": "cba1ba081b33e926"
  },
  {
   "metadata": {},
   "cell_type": "code",
   "outputs": [],
   "execution_count": null,
   "source": [
    "import numpy as np\n",
    "\n",
    "def compute_metrics(eval_preds):\n",
    "    preds, labels = eval_preds\n",
    "    if isinstance(preds, tuple):\n",
    "        preds = preds[0]\n",
    "    decoded_preds = tokenizer.batch_decode(preds, skip_special_tokens=True) # 把token Id转回token\n",
    "\n",
    "    # 把-100的标签，替换成pad token id\n",
    "    labels = np.where(labels != -100, labels, tokenizer.pad_token_id)\n",
    "    decoded_labels = tokenizer.batch_decode(labels, skip_special_tokens=True) # 把token Id转回token\n",
    "\n",
    "    # 做后置处理\n",
    "    decoded_preds, decoded_labels = postprocess_text(decoded_preds, decoded_labels)\n",
    "\n",
    "    result = metric.compute(predictions=decoded_preds, references=decoded_labels)\n",
    "    result = {\"bleu\": result[\"score\"]} # bleu: [0,100], 越高越好\n",
    "\n",
    "    # 统计每个句子的不计pad_token的实际长度，主要是用来观察是否生成太短或太长的句子\n",
    "    prediction_lens = [np.count_nonzero(pred != tokenizer.pad_token_id) for pred in preds]\n",
    "    result[\"gen_len\"] = np.mean(prediction_lens)\n",
    "\n",
    "    result = {k: round(v, 4) for k, v in result.items()}\n",
    "    return result"
   ],
   "id": "f83530bbede3320d"
  },
  {
   "metadata": {},
   "cell_type": "markdown",
   "source": "## 创建训练器",
   "id": "831a02b8ffe21759"
  },
  {
   "metadata": {},
   "cell_type": "code",
   "outputs": [],
   "execution_count": null,
   "source": [
    "trainer = Seq2SeqTrainer(\n",
    "    model,\n",
    "    args,\n",
    "    train_dataset=tokenized_datasets[\"train\"],\n",
    "    eval_dataset=tokenized_datasets[\"validation\"],\n",
    "    data_collator=data_collator,\n",
    "    tokenizer=tokenizer,\n",
    "    compute_metrics=compute_metrics\n",
    ")"
   ],
   "id": "3c52fefa5cb23710"
  },
  {
   "metadata": {},
   "cell_type": "markdown",
   "source": "## 开始训练",
   "id": "4d7510cc3dd37699"
  },
  {
   "metadata": {},
   "cell_type": "code",
   "outputs": [],
   "execution_count": null,
   "source": [
    "# 在T4的卡下，一个epoch跑了1h\n",
    "trainer.train()"
   ],
   "id": "847c842e1e17e219"
  }
 ],
 "metadata": {
  "kernelspec": {
   "display_name": "Python 3",
   "language": "python",
   "name": "python3"
  },
  "language_info": {
   "codemirror_mode": {
    "name": "ipython",
    "version": 2
   },
   "file_extension": ".py",
   "mimetype": "text/x-python",
   "name": "python",
   "nbconvert_exporter": "python",
   "pygments_lexer": "ipython2",
   "version": "2.7.6"
  }
 },
 "nbformat": 4,
 "nbformat_minor": 5
}
